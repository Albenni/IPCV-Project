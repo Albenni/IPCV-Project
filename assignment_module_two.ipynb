{
  "cells": [
    {
      "cell_type": "markdown",
      "id": "d41535fd",
      "metadata": {
        "id": "d41535fd"
      },
      "source": [
        "# Assignment Module 2: Pet Classification\n",
        "\n",
        "The goal of this assignment is to implement a neural network that classifies images of 37 breeds of cats and dogs from the [Oxford-IIIT-Pet dataset](https://www.robots.ox.ac.uk/~vgg/data/pets/). The assignment is divided into two parts: first, you will be asked to implement from scratch your own neural network for image classification; then, you will fine-tune a pretrained network provided by PyTorch."
      ]
    },
    {
      "cell_type": "markdown",
      "id": "b1476550",
      "metadata": {
        "id": "b1476550"
      },
      "source": [
        "## Dataset\n",
        "\n",
        "The following cells contain the code to download and access the dataset you will be using in this assignment. Note that, although this dataset features each and every image from [Oxford-IIIT-Pet](https://www.robots.ox.ac.uk/~vgg/data/pets/), it uses a different train-val-test split than the original authors."
      ]
    },
    {
      "cell_type": "code",
      "execution_count": null,
      "id": "91101a0d",
      "metadata": {
        "colab": {
          "base_uri": "https://localhost:8080/"
        },
        "id": "91101a0d",
        "outputId": "f6223f14-e121-4053-b438-56bf5cd94974"
      },
      "outputs": [
        {
          "name": "stdout",
          "output_type": "stream",
          "text": [
            "Cloning into 'ipcv-assignment-2'...\n",
            "remote: Enumerating objects: 7371, done.\u001b[K\n",
            "remote: Total 7371 (delta 0), reused 0 (delta 0), pack-reused 7371 (from 1)\u001b[K\n",
            "Receiving objects: 100% (7371/7371), 753.77 MiB | 24.18 MiB/s, done.\n",
            "Updating files: 100% (7396/7396), done.\n"
          ]
        }
      ],
      "source": [
        "!git clone https://github.com/CVLAB-Unibo/ipcv-assignment-2.git"
      ]
    },
    {
      "cell_type": "code",
      "execution_count": null,
      "id": "0d8fb0d2",
      "metadata": {
        "id": "0d8fb0d2"
      },
      "outputs": [],
      "source": [
        "from pathlib import Path\n",
        "from PIL import Image\n",
        "from torch import Tensor\n",
        "from torch.utils.data import Dataset\n",
        "from typing import List, Tuple"
      ]
    },
    {
      "cell_type": "code",
      "execution_count": null,
      "id": "b99c9929",
      "metadata": {
        "id": "b99c9929"
      },
      "outputs": [],
      "source": [
        "class OxfordPetDataset(Dataset):\n",
        "    def __init__(self, split: str, transform=None) -> None:\n",
        "        super().__init__()\n",
        "\n",
        "        self.root = Path(\"ipcv-assignment-2\") / \"dataset\"\n",
        "        self.split = split\n",
        "        self.names, self.labels = self._get_names_and_labels()\n",
        "        self.transform = transform\n",
        "\n",
        "    def __len__(self) -> int:\n",
        "        return len(self.labels)\n",
        "\n",
        "    def __getitem__(self, idx) -> Tuple[Tensor, int]:\n",
        "        img_path = self.root / \"images\" / f\"{self.names[idx]}.jpg\"\n",
        "        img = Image.open(img_path).convert(\"RGB\")\n",
        "        label = self.labels[idx]\n",
        "\n",
        "        if self.transform:\n",
        "            img = self.transform(img)\n",
        "\n",
        "        return img, label\n",
        "\n",
        "    def get_num_classes(self) -> int:\n",
        "        return max(self.labels) + 1\n",
        "\n",
        "    def _get_names_and_labels(self) -> Tuple[List[str], List[int]]:\n",
        "        names = []\n",
        "        labels = []\n",
        "\n",
        "        with open(self.root / \"annotations\" / f\"{self.split}.txt\") as f:\n",
        "            for line in f:\n",
        "                name, label = line.replace(\"\\n\", \"\").split(\" \")\n",
        "                names.append(name),\n",
        "                labels.append(int(label) - 1)\n",
        "\n",
        "        return names, labels"
      ]
    },
    {
      "cell_type": "markdown",
      "id": "b4e655bd",
      "metadata": {
        "id": "b4e655bd"
      },
      "source": [
        "## Part 1: design your own network\n",
        "\n",
        "Your goal is to implement a convolutional neural network for image classification and train it from scratch on `OxfordPetDataset`. You should consider yourselves satisfied once you obtain a classification accuracy on the test split of ~60%. You are free to achieve this however you want, except for a few rules you must follow:\n",
        "\n",
        "- Compile this notebook by displaying the results obtained by the best model you found throughout your experimentation; then show how, by removing some of its components, its performance drops. In other words, do an *ablation study* to prove that your design choices have a positive impact on the final result.\n",
        "\n",
        "- Do not instantiate an off-the-self PyTorch network. Instead, construct your network as a composition of existing PyTorch layers. In more concrete terms, you can use e.g. `torch.nn.Linear`, but you cannot use e.g. `torchvision.models.alexnet`.\n",
        "\n",
        "- Show your results and ablations with plots, tables, images, etc. — the clearer, the better.\n",
        "\n",
        "Don't be too concerned with your model performance: the ~60% is just to give you an idea of when to stop. Keep in mind that a thoroughly justified model with lower accuracy will be rewarded more points than a poorly experimentally validated model with higher accuracy."
      ]
    },
    {
      "cell_type": "markdown",
      "id": "QJeXV-20UL0p",
      "metadata": {
        "id": "QJeXV-20UL0p"
      },
      "source": [
        "#### Baseline model"
      ]
    },
    {
      "cell_type": "code",
      "execution_count": null,
      "id": "qzKPzNFmBDIV",
      "metadata": {
        "id": "qzKPzNFmBDIV"
      },
      "outputs": [],
      "source": [
        "# 0. Imports\n",
        "import torch, torch.nn as nn, torch.nn.functional as F\n",
        "from torch.utils.data import DataLoader\n",
        "from torchvision import transforms\n",
        "from pathlib import Path\n",
        "from tqdm import tqdm\n",
        "import numpy as np\n",
        "import matplotlib.pyplot as plt\n",
        "\n",
        "from PIL import Image\n",
        "from typing import List, Tuple"
      ]
    },
    {
      "cell_type": "code",
      "execution_count": null,
      "id": "78_xqXh5BDt3",
      "metadata": {
        "colab": {
          "base_uri": "https://localhost:8080/"
        },
        "id": "78_xqXh5BDt3",
        "outputId": "7f42f509-172c-4cd7-d499-01d4da8611f9"
      },
      "outputs": [
        {
          "name": "stderr",
          "output_type": "stream",
          "text": [
            "/usr/local/lib/python3.11/dist-packages/torch/utils/data/dataloader.py:624: UserWarning: This DataLoader will create 4 worker processes in total. Our suggested max number of worker in current system is 2, which is smaller than what this DataLoader is going to create. Please be aware that excessive worker creation might get DataLoader running slow or even freeze, lower the worker number to avoid potential slowness/freeze if necessary.\n",
            "  warnings.warn(\n"
          ]
        }
      ],
      "source": [
        "# mean / std computed on a 1-epoch pass over the training set\n",
        "MEAN = [0.4866, 0.4568, 0.4103]\n",
        "STD  = [0.2521, 0.2465, 0.2718]\n",
        "\n",
        "augmented = transforms.Compose([\n",
        "    transforms.Resize(256),\n",
        "    transforms.RandomResizedCrop(224, scale=(0.7,1.0)),\n",
        "    transforms.RandomHorizontalFlip(),\n",
        "    transforms.ColorJitter(0.2,0.2,0.2,0.1),\n",
        "    transforms.ToTensor(),\n",
        "    transforms.Normalize(MEAN, STD),\n",
        "])\n",
        "\n",
        "plain = transforms.Compose([\n",
        "    transforms.Resize(256),\n",
        "    transforms.CenterCrop(224),\n",
        "    transforms.ToTensor(),\n",
        "    transforms.Normalize(MEAN, STD),\n",
        "])\n",
        "\n",
        "train_ds = OxfordPetDataset('train', transform=augmented)\n",
        "val_ds   = OxfordPetDataset('val',   transform=plain)\n",
        "test_ds  = OxfordPetDataset('test',  transform=plain)\n",
        "\n",
        "train_loader = DataLoader(train_ds, 64, shuffle=True,  num_workers=4, pin_memory=True)\n",
        "val_loader   = DataLoader(val_ds,   64, shuffle=False, num_workers=4, pin_memory=True)\n",
        "test_loader  = DataLoader(test_ds,  64, shuffle=False, num_workers=4, pin_memory=True)\n",
        "\n",
        "NUM_CLASSES = train_ds.get_num_classes()\n"
      ]
    },
    {
      "cell_type": "code",
      "execution_count": null,
      "id": "gpycYrkLBPCI",
      "metadata": {
        "id": "gpycYrkLBPCI"
      },
      "outputs": [],
      "source": [
        "class BasicBlock(nn.Module):\n",
        "    def __init__(self, in_ch, out_ch, stride=1):\n",
        "        super().__init__()\n",
        "        self.proj = nn.Identity() if in_ch==out_ch and stride==1 else \\\n",
        "                    nn.Conv2d(in_ch, out_ch, 1, stride, bias=False)\n",
        "\n",
        "        self.net = nn.Sequential(\n",
        "            nn.Conv2d(in_ch, out_ch, 3, stride, 1, bias=False),\n",
        "            nn.BatchNorm2d(out_ch), nn.ReLU(inplace=True),\n",
        "            nn.Conv2d(out_ch, out_ch, 3, 1, 1, bias=False),\n",
        "            nn.BatchNorm2d(out_ch)\n",
        "        )\n",
        "        self.act = nn.ReLU(inplace=True)\n",
        "\n",
        "    def forward(self,x):\n",
        "        return self.act(self.net(x) + self.proj(x))\n",
        "\n",
        "class MiniXResNet(nn.Module):\n",
        "    def __init__(self, n_classes=37, drop=0.2):\n",
        "        super().__init__()\n",
        "        # stem (depth-wise separable)\n",
        "        self.stem = nn.Sequential(\n",
        "            nn.Conv2d(3, 32, 3, 2, 1, bias=False),          # groups default to 1\n",
        "            nn.BatchNorm2d(32), nn.ReLU(inplace=True),\n",
        "            nn.MaxPool2d(3, 2, 1),\n",
        "            nn.Conv2d(32, 64, 1, 1, 0, bias=False),\n",
        "            nn.BatchNorm2d(64), nn.ReLU(inplace=True),\n",
        "        )\n",
        "        # stages\n",
        "        self.stage1 = BasicBlock(64, 128, 2)\n",
        "        self.stage2 = BasicBlock(128, 256, 2)\n",
        "        self.stage3 = nn.Sequential(\n",
        "            BasicBlock(256, 256),\n",
        "            BasicBlock(256, 512, 2)\n",
        "        )\n",
        "        self.pool = nn.AdaptiveAvgPool2d(1)\n",
        "        self.head = nn.Sequential(\n",
        "            nn.Flatten(),\n",
        "            nn.Dropout(drop),\n",
        "            nn.Linear(512, n_classes)\n",
        "        )\n",
        "\n",
        "    def forward(self,x):\n",
        "        x = self.stem(x)\n",
        "        x = self.stage1(x)\n",
        "        x = self.stage2(x)\n",
        "        x = self.stage3(x)\n",
        "        x = self.pool(x)\n",
        "        return self.head(x)\n"
      ]
    },
    {
      "cell_type": "code",
      "execution_count": null,
      "id": "qLnULFUrBW1U",
      "metadata": {
        "id": "qLnULFUrBW1U"
      },
      "outputs": [],
      "source": [
        "def accuracy(logits, y):\n",
        "    return (logits.argmax(1) == y).float().mean().item()\n",
        "\n",
        "def run_epoch(model, loader, opt=None):\n",
        "    train = opt is not None\n",
        "    model.train(train)\n",
        "    total_loss, total_acc = 0, 0\n",
        "    for x,y in loader:\n",
        "        x,y = x.cuda(non_blocking=True), y.cuda(non_blocking=True)\n",
        "        logits = model(x)\n",
        "        loss = F.cross_entropy(logits, y)\n",
        "        if train:\n",
        "            opt.zero_grad(); loss.backward(); opt.step()\n",
        "        total_loss += loss.item()*x.size(0)\n",
        "        total_acc  += accuracy(logits, y)*x.size(0)\n",
        "    n = len(loader.dataset)\n",
        "    return total_loss/n, total_acc/n\n",
        "\n",
        "def fit(model, epochs=15, lr=3e-4):\n",
        "    model.cuda()\n",
        "    opt = torch.optim.AdamW(model.parameters(), lr, weight_decay=1e-4)\n",
        "    best_val, best_state = 0, None\n",
        "    for ep in range(1,epochs+1):\n",
        "        tr_loss, tr_acc = run_epoch(model, train_loader, opt)\n",
        "        val_loss, val_acc = run_epoch(model, val_loader)\n",
        "        if val_acc > best_val:\n",
        "            best_val, best_state = val_acc, model.state_dict()\n",
        "        print(f\"ep {ep:02d}: train {tr_acc*100:5.1f} | val {val_acc*100:5.1f}\")\n",
        "    model.load_state_dict(best_state)\n",
        "    tst_loss, tst_acc = run_epoch(model, test_loader)\n",
        "    print(f\"\\nTEST ACCURACY: {tst_acc*100:5.1f} %\")\n",
        "    return best_val, tst_acc\n"
      ]
    },
    {
      "cell_type": "markdown",
      "id": "wR8WLV5lUPgC",
      "metadata": {
        "id": "wR8WLV5lUPgC"
      },
      "source": [
        "#### Ablation study\n",
        "- Variant A: no data augmentation\n",
        "\n",
        "- Variant B: no BatchNorm + Dropout\n",
        "\n",
        "- Variant C: shallow network"
      ]
    },
    {
      "cell_type": "code",
      "execution_count": null,
      "id": "OQ40G1sLUR4u",
      "metadata": {
        "id": "OQ40G1sLUR4u"
      },
      "outputs": [],
      "source": [
        "# Variant A\n",
        "train_ds.transform = plain\n",
        "\n",
        "# Variant B\n",
        "class MiniXResNetNoBN(MiniXResNet):\n",
        "    def __init__(self,n_classes=37):\n",
        "        super().__init__(n_classes, drop=0.)\n",
        "        self.apply(self.remove_bn)\n",
        "    def remove_bn(self,m):\n",
        "        if isinstance(m, nn.BatchNorm2d):\n",
        "            return nn.Identity()\n",
        "        return m\n",
        "\n",
        "# Variant C\n",
        "class MiniXResNetShallow(MiniXResNet):\n",
        "    def __init__(self,n_classes=37, drop=0.2):\n",
        "        super().__init__(n_classes,drop)\n",
        "        self.stage3 = nn.Identity()\n",
        "        self.head[2] = nn.Linear(256, n_classes)\n"
      ]
    },
    {
      "cell_type": "code",
      "execution_count": null,
      "id": "ywAqf14HUhUp",
      "metadata": {
        "colab": {
          "base_uri": "https://localhost:8080/"
        },
        "id": "ywAqf14HUhUp",
        "outputId": "d372916a-743b-4814-9c65-56e1346084d7"
      },
      "outputs": [
        {
          "name": "stdout",
          "output_type": "stream",
          "text": [
            "\n",
            "==== Baseline ====\n",
            "ep 01: train   6.6 | val   8.7\n",
            "ep 02: train  10.5 | val   9.9\n",
            "ep 03: train  14.3 | val  13.2\n",
            "ep 04: train  17.9 | val  16.6\n",
            "ep 05: train  21.5 | val  17.1\n",
            "ep 06: train  24.6 | val  16.8\n",
            "ep 07: train  26.9 | val  20.9\n",
            "ep 08: train  28.6 | val  21.9\n",
            "ep 09: train  32.1 | val  22.8\n",
            "ep 10: train  34.8 | val  24.6\n",
            "ep 11: train  37.5 | val  26.5\n",
            "ep 12: train  39.6 | val  23.8\n",
            "ep 13: train  43.4 | val  30.4\n",
            "ep 14: train  45.5 | val  33.5\n",
            "ep 15: train  48.4 | val  32.2\n",
            "\n",
            "TEST ACCURACY:  37.6 %\n"
          ]
        }
      ],
      "source": [
        "results = {}\n",
        "\n",
        "print(\"\\n==== Baseline ====\")\n",
        "train_ds.transform = augmented\n",
        "baseline = fit(MiniXResNet())\n",
        "results[\"Baseline\"] = baseline"
      ]
    },
    {
      "cell_type": "code",
      "execution_count": null,
      "id": "5eIpJ8eyY8sm",
      "metadata": {
        "colab": {
          "base_uri": "https://localhost:8080/"
        },
        "id": "5eIpJ8eyY8sm",
        "outputId": "79690f66-84c6-42be-a47f-ef85e49b7c05"
      },
      "outputs": [
        {
          "name": "stdout",
          "output_type": "stream",
          "text": [
            "\n",
            "==== Variant A (no augm) ====\n",
            "ep 01: train   9.6 | val   9.7\n",
            "ep 02: train  18.0 | val  16.8\n",
            "ep 03: train  22.3 | val  16.2\n",
            "ep 04: train  27.6 | val  20.4\n",
            "ep 05: train  33.1 | val  15.3\n",
            "ep 06: train  38.4 | val  24.1\n",
            "ep 07: train  42.0 | val  21.0\n",
            "ep 08: train  48.1 | val  24.3\n",
            "ep 09: train  52.0 | val  29.8\n",
            "ep 10: train  57.2 | val  29.5\n",
            "ep 11: train  65.2 | val  30.5\n",
            "ep 12: train  72.8 | val  29.0\n",
            "ep 13: train  76.0 | val  30.5\n",
            "ep 14: train  82.3 | val  22.0\n",
            "ep 15: train  83.3 | val  28.1\n",
            "\n",
            "TEST ACCURACY:  29.0 %\n"
          ]
        }
      ],
      "source": [
        "print(\"\\n==== Variant A (no augm) ====\")\n",
        "train_ds.transform = plain\n",
        "var_a = fit(MiniXResNet())\n",
        "results[\"No Augmentation\"] = var_a"
      ]
    },
    {
      "cell_type": "code",
      "execution_count": null,
      "id": "if1gZVEoY9-o",
      "metadata": {
        "colab": {
          "base_uri": "https://localhost:8080/"
        },
        "id": "if1gZVEoY9-o",
        "outputId": "061bb25d-636c-4883-cf5a-031ee25db1c2"
      },
      "outputs": [
        {
          "name": "stdout",
          "output_type": "stream",
          "text": [
            "\n",
            "==== Variant B (no BN / no Dropout) ====\n",
            "ep 01: train   7.7 | val   9.8\n",
            "ep 02: train  11.1 | val  11.0\n",
            "ep 03: train  16.4 | val  14.8\n",
            "ep 04: train  19.7 | val  16.2\n",
            "ep 05: train  22.2 | val  18.2\n",
            "ep 06: train  26.6 | val  20.3\n",
            "ep 07: train  29.3 | val  15.8\n",
            "ep 08: train  33.2 | val  25.9\n",
            "ep 09: train  34.2 | val  20.1\n",
            "ep 10: train  37.6 | val  25.1\n",
            "ep 11: train  40.0 | val  24.2\n",
            "ep 12: train  45.4 | val  24.0\n",
            "ep 13: train  44.9 | val  26.1\n",
            "ep 14: train  50.4 | val  31.5\n",
            "ep 15: train  54.0 | val  31.7\n",
            "\n",
            "TEST ACCURACY:  34.8 %\n"
          ]
        }
      ],
      "source": [
        "print(\"\\n==== Variant B (no BN / no Dropout) ====\")\n",
        "train_ds.transform = augmented\n",
        "var_b = fit(MiniXResNetNoBN())\n",
        "results[\"No BN/Dropout\"] = var_b"
      ]
    },
    {
      "cell_type": "code",
      "execution_count": null,
      "id": "YEA3VfXwZAho",
      "metadata": {
        "colab": {
          "base_uri": "https://localhost:8080/"
        },
        "id": "YEA3VfXwZAho",
        "outputId": "72c998f6-3656-4a4b-fff6-d55f91fb1c59"
      },
      "outputs": [
        {
          "name": "stdout",
          "output_type": "stream",
          "text": [
            "\n",
            "==== Variant C (shallow) ====\n",
            "ep 01: train   6.6 | val   8.5\n",
            "ep 02: train  10.2 | val  10.7\n",
            "ep 03: train  11.9 | val  13.6\n",
            "ep 04: train  14.0 | val  12.9\n",
            "ep 05: train  16.1 | val  15.5\n",
            "ep 06: train  18.7 | val  15.8\n",
            "ep 07: train  20.3 | val  17.9\n",
            "ep 08: train  21.6 | val  17.2\n",
            "ep 09: train  24.2 | val  18.6\n",
            "ep 10: train  25.2 | val  21.7\n",
            "ep 11: train  26.4 | val  20.9\n",
            "ep 12: train  29.2 | val  19.9\n",
            "ep 13: train  29.2 | val  24.6\n",
            "ep 14: train  30.7 | val  24.3\n",
            "ep 15: train  32.5 | val  19.5\n",
            "\n",
            "TEST ACCURACY:  21.5 %\n"
          ]
        }
      ],
      "source": [
        "print(\"\\n==== Variant C (shallow) ====\")\n",
        "var_c = fit(MiniXResNetShallow())\n",
        "results[\"Shallow\"] = var_c"
      ]
    },
    {
      "cell_type": "code",
      "execution_count": null,
      "id": "90pJ7H-OU1s1",
      "metadata": {
        "colab": {
          "base_uri": "https://localhost:8080/",
          "height": 468
        },
        "id": "90pJ7H-OU1s1",
        "outputId": "c89bb4a2-fddb-4504-8f77-cecc8616d882"
      },
      "outputs": [
        {
          "data": {
            "image/png": "[encoded data removed]",
            "text/plain": [
              "<Figure size 800x500 with 1 Axes>"
            ]
          },
          "metadata": {},
          "output_type": "display_data"
        }
      ],
      "source": [
        "plt.figure(figsize=(8,5))\n",
        "accuracies = [np.mean(v)*100 for v in results.values()]  # Convert to percentages\n",
        "bars = plt.bar(results.keys(), accuracies, color=\"steelblue\")\n",
        "plt.ylabel(\"Test Accuracy (%)\")\n",
        "plt.title(\"Ablation Study on Oxford-IIIT-Pet\")\n",
        "\n",
        "for bar in bars:\n",
        "    plt.text(bar.get_x() + bar.get_width()/2, bar.get_height() + 1,\n",
        "             f\"{bar.get_height():.1f}%\", ha=\"center\", va=\"bottom\", fontsize=10)\n",
        "\n",
        "plt.ylim(0, 100)\n",
        "plt.show()\n"
      ]
    },
    {
      "cell_type": "markdown",
      "id": "ACtvMdq0nh__",
      "metadata": {
        "id": "ACtvMdq0nh__"
      },
      "source": [
        "We can se how different features of our architecture improve accuracy. Let's try to improve it even more:\n",
        "\n",
        "- From 15 to 30 epochs\n",
        "- From fixed learning rate to cosine decay\n",
        "- Increase augmentation\n",
        "- More depth in stage 3"
      ]
    },
    {
      "cell_type": "code",
      "execution_count": null,
      "id": "sHOeXjH0nta-",
      "metadata": {
        "colab": {
          "base_uri": "https://localhost:8080/"
        },
        "id": "sHOeXjH0nta-",
        "outputId": "5c281ad8-f2e3-4ef0-ff88-b1c3de8cb9e1"
      },
      "outputs": [
        {
          "name": "stderr",
          "output_type": "stream",
          "text": [
            "/usr/local/lib/python3.11/dist-packages/torch/utils/data/dataloader.py:624: UserWarning: This DataLoader will create 4 worker processes in total. Our suggested max number of worker in current system is 2, which is smaller than what this DataLoader is going to create. Please be aware that excessive worker creation might get DataLoader running slow or even freeze, lower the worker number to avoid potential slowness/freeze if necessary.\n",
            "  warnings.warn(\n"
          ]
        }
      ],
      "source": [
        "MEAN = [0.4866, 0.4568, 0.4103]\n",
        "STD  = [0.2521, 0.2465, 0.2718]\n",
        "\n",
        "augmented = transforms.Compose([\n",
        "    transforms.Resize(256),\n",
        "    transforms.RandomResizedCrop(224, scale=(0.7,1.0)),\n",
        "    transforms.RandomHorizontalFlip(),\n",
        "    transforms.ColorJitter(0.2,0.2,0.2,0.1),\n",
        "    transforms.RandomPerspective(distortion_scale=0.2, p=0.5),  # PUNTO 4: Random Perspective\n",
        "    transforms.RandomRotation(degrees=15),                     # PUNTO 4: Rotazione casuale\n",
        "    transforms.ToTensor(),\n",
        "    transforms.Normalize(MEAN, STD),\n",
        "])\n",
        "\n",
        "plain = transforms.Compose([\n",
        "    transforms.Resize(256),\n",
        "    transforms.CenterCrop(224),\n",
        "    transforms.ToTensor(),\n",
        "    transforms.Normalize(MEAN, STD),\n",
        "])\n",
        "\n",
        "train_ds = OxfordPetDataset('train', augmented)\n",
        "val_ds   = OxfordPetDataset('val', plain)\n",
        "test_ds  = OxfordPetDataset('test', plain)\n",
        "\n",
        "train_loader = DataLoader(train_ds, 64, shuffle=True, num_workers=4, pin_memory=True)\n",
        "val_loader   = DataLoader(val_ds,   64, shuffle=False, num_workers=4, pin_memory=True)\n",
        "test_loader  = DataLoader(test_ds,  64, shuffle=False, num_workers=4, pin_memory=True)\n",
        "\n",
        "NUM_CLASSES = train_ds.get_num_classes()"
      ]
    },
    {
      "cell_type": "code",
      "execution_count": null,
      "id": "-gg7y30mFYDV",
      "metadata": {
        "id": "-gg7y30mFYDV"
      },
      "outputs": [],
      "source": [
        "class MiniXResNet_v2(nn.Module):\n",
        "    def __init__(self, n_classes=37, drop=0.2):\n",
        "        super().__init__()\n",
        "\n",
        "        # STEM: con gruppi depthwise separable\n",
        "        self.stem = nn.Sequential(\n",
        "            nn.Conv2d(3, 3, 3, 2, 1, bias=False, groups=3),   # depthwise 3→3\n",
        "            nn.Conv2d(3, 32, 1, 1, 0, bias=False),            # pointwise 3→32\n",
        "            nn.BatchNorm2d(32), nn.ReLU(inplace=True),\n",
        "            nn.MaxPool2d(3,2,1),\n",
        "            nn.Conv2d(32, 64, 1, 1, 0, bias=False),           # aumenta a 64\n",
        "            nn.BatchNorm2d(64), nn.ReLU(inplace=True),\n",
        "        )\n",
        "\n",
        "        self.stage1 = BasicBlock(64, 128, 2)\n",
        "\n",
        "        self.stage2 = BasicBlock(128, 256, 2)\n",
        "\n",
        "        self.stage3 = nn.Sequential(\n",
        "            BasicBlock(256, 512, 2),\n",
        "            BasicBlock(512, 512)\n",
        "        )\n",
        "\n",
        "        # POOLING + CLASSIFICATORE\n",
        "        self.pool = nn.AdaptiveAvgPool2d(1)\n",
        "        self.head = nn.Sequential(\n",
        "            nn.Flatten(),\n",
        "            nn.Dropout(drop),\n",
        "            nn.Linear(512, n_classes)\n",
        "        )\n",
        "\n",
        "    def forward(self,x):\n",
        "        x = self.stem(x)\n",
        "        x = self.stage1(x)\n",
        "        x = self.stage2(x)\n",
        "        x = self.stage3(x)\n",
        "        x = self.pool(x)\n",
        "        return self.head(x)\n"
      ]
    },
    {
      "cell_type": "code",
      "execution_count": null,
      "id": "1fMTAoMGokok",
      "metadata": {
        "id": "1fMTAoMGokok"
      },
      "outputs": [],
      "source": [
        "def run_epoch_v2(model, loader, opt=None):\n",
        "    model.train(opt is not None)\n",
        "    total_loss, total_acc = 0, 0\n",
        "    for x,y in loader:\n",
        "        x,y = x.cuda(), y.cuda()\n",
        "        logits = model(x)\n",
        "        loss = F.cross_entropy(logits, y)\n",
        "        if opt:\n",
        "            opt.zero_grad(); loss.backward(); opt.step()\n",
        "        total_loss += loss.item() * x.size(0)\n",
        "        total_acc += (logits.argmax(1) == y).float().sum().item()\n",
        "    return total_loss/len(loader.dataset), total_acc/len(loader.dataset)\n",
        "\n",
        "\n",
        "def fit_v2(model, epochs=30, lr=3e-4):\n",
        "    model.cuda()\n",
        "    opt = torch.optim.AdamW(model.parameters(), lr=lr, weight_decay=1e-4)\n",
        "    # add cosine annealing LR scheduler\n",
        "    scheduler = torch.optim.lr_scheduler.CosineAnnealingLR(opt, T_max=epochs, eta_min=1e-6)\n",
        "\n",
        "    best_val, best_state = 0, None\n",
        "    history = {'train_acc':[], 'val_acc':[]}\n",
        "    for ep in range(1, epochs+1):\n",
        "        _, train_acc = run_epoch_v2(model, train_loader, opt)\n",
        "        _, val_acc   = run_epoch_v2(model, val_loader)\n",
        "        scheduler.step()  # aggiorno lr secondo cosine\n",
        "        history['train_acc'].append(train_acc)\n",
        "        history['val_acc'].append(val_acc)\n",
        "        if val_acc > best_val:\n",
        "            best_val, best_state = val_acc, model.state_dict()\n",
        "        print(f\"Ep{ep:02d} − train {train_acc*100:.1f}% | val {val_acc*100:.1f}% | lr={opt.param_groups[0]['lr']:.2e}\")\n",
        "\n",
        "    model.load_state_dict(best_state)\n",
        "    _, test_acc = run_epoch_v2(model, test_loader)\n",
        "    print(f\"\\n→ TEST ACCURACY finale: {test_acc*100:.1f}%\")\n",
        "    return history, test_acc"
      ]
    },
    {
      "cell_type": "code",
      "execution_count": null,
      "id": "j4Fx_-D_pKmw",
      "metadata": {
        "colab": {
          "base_uri": "https://localhost:8080/"
        },
        "id": "j4Fx_-D_pKmw",
        "outputId": "0d37457a-3e65-431c-e18b-9a1fe4c2259c"
      },
      "outputs": [
        {
          "name": "stderr",
          "output_type": "stream",
          "text": [
            "/usr/local/lib/python3.11/dist-packages/torch/utils/data/dataloader.py:624: UserWarning: This DataLoader will create 4 worker processes in total. Our suggested max number of worker in current system is 2, which is smaller than what this DataLoader is going to create. Please be aware that excessive worker creation might get DataLoader running slow or even freeze, lower the worker number to avoid potential slowness/freeze if necessary.\n",
            "  warnings.warn(\n"
          ]
        },
        {
          "name": "stdout",
          "output_type": "stream",
          "text": [
            "Ep01 − train 6.6% | val 7.3% | lr=2.99e-04\n",
            "Ep02 − train 9.6% | val 10.7% | lr=2.97e-04\n",
            "Ep03 − train 12.2% | val 11.3% | lr=2.93e-04\n",
            "Ep04 − train 15.3% | val 10.5% | lr=2.87e-04\n",
            "Ep05 − train 17.7% | val 14.1% | lr=2.80e-04\n",
            "Ep06 − train 20.1% | val 14.3% | lr=2.71e-04\n",
            "Ep07 − train 24.2% | val 15.3% | lr=2.62e-04\n",
            "Ep08 − train 24.9% | val 15.6% | lr=2.51e-04\n",
            "Ep09 − train 28.7% | val 20.8% | lr=2.38e-04\n",
            "Ep10 − train 30.6% | val 23.1% | lr=2.25e-04\n",
            "Ep11 − train 32.9% | val 23.8% | lr=2.11e-04\n",
            "Ep12 − train 37.4% | val 26.0% | lr=1.97e-04\n",
            "Ep13 − train 39.9% | val 27.9% | lr=1.82e-04\n",
            "Ep14 − train 40.7% | val 28.5% | lr=1.66e-04\n",
            "Ep15 − train 44.6% | val 31.7% | lr=1.50e-04\n",
            "Ep16 − train 47.2% | val 32.8% | lr=1.35e-04\n",
            "Ep17 − train 51.0% | val 33.6% | lr=1.19e-04\n",
            "Ep18 − train 53.9% | val 31.0% | lr=1.04e-04\n",
            "Ep19 − train 56.1% | val 35.1% | lr=8.97e-05\n",
            "Ep20 − train 57.9% | val 38.1% | lr=7.58e-05\n",
            "Ep21 − train 60.0% | val 36.6% | lr=6.26e-05\n",
            "Ep22 − train 64.6% | val 40.0% | lr=5.05e-05\n",
            "Ep23 − train 65.6% | val 39.9% | lr=3.94e-05\n",
            "Ep24 − train 66.1% | val 40.3% | lr=2.96e-05\n",
            "Ep25 − train 69.3% | val 42.9% | lr=2.10e-05\n",
            "Ep26 − train 72.6% | val 42.3% | lr=1.39e-05\n",
            "Ep27 − train 71.4% | val 43.2% | lr=8.32e-06\n",
            "Ep28 − train 73.4% | val 43.0% | lr=4.27e-06\n",
            "Ep29 − train 75.0% | val 43.4% | lr=1.82e-06\n",
            "Ep30 − train 73.1% | val 43.7% | lr=1.00e-06\n",
            "\n",
            "→ TEST ACCURACY finale: 45.7%\n"
          ]
        }
      ],
      "source": [
        "model = MiniXResNet_v2(n_classes=NUM_CLASSES, drop=0.2)\n",
        "history, test_acc = fit_v2(model, epochs=30)"
      ]
    },
    {
      "cell_type": "markdown",
      "id": "48U8hw9MM3eA",
      "metadata": {
        "id": "48U8hw9MM3eA"
      },
      "source": [
        "We can notice great improvement with the last changes, but:\n",
        "- Increasing train/validation gap (train 73%, val 43%)\n",
        "- Validation accuracy plateau after the 22nd epoch\n",
        "\n",
        "Therefore, this is a classic case of overfitting.\n",
        "\n",
        "Let's try some adjustments:\n",
        "- dropout from 0.2 to 0.4\n",
        "- increase augmentation: *transforms.RandomErasing(p=0.2, scale=(0.02, 0.2))*\n",
        "- t_max and epochs to 50"
      ]
    },
    {
      "cell_type": "code",
      "execution_count": null,
      "id": "K8kD9Gb2PCls",
      "metadata": {
        "colab": {
          "base_uri": "https://localhost:8080/"
        },
        "id": "K8kD9Gb2PCls",
        "outputId": "300e5cad-246a-42da-b605-0eed69d71603"
      },
      "outputs": [
        {
          "name": "stderr",
          "output_type": "stream",
          "text": [
            "/usr/local/lib/python3.11/dist-packages/torch/utils/data/dataloader.py:624: UserWarning: This DataLoader will create 4 worker processes in total. Our suggested max number of worker in current system is 2, which is smaller than what this DataLoader is going to create. Please be aware that excessive worker creation might get DataLoader running slow or even freeze, lower the worker number to avoid potential slowness/freeze if necessary.\n",
            "  warnings.warn(\n"
          ]
        }
      ],
      "source": [
        "MEAN = [0.4866, 0.4568, 0.4103]\n",
        "STD  = [0.2521, 0.2465, 0.2718]\n",
        "\n",
        "augmented = transforms.Compose([\n",
        "    transforms.Resize(256),\n",
        "    transforms.RandomResizedCrop(224, scale=(0.7,1.0)),\n",
        "    transforms.RandomHorizontalFlip(),\n",
        "    transforms.ColorJitter(0.2,0.2,0.2,0.1),\n",
        "    transforms.RandomPerspective(distortion_scale=0.2, p=0.5),\n",
        "    transforms.RandomRotation(degrees=15),\n",
        "    transforms.ToTensor(),\n",
        "    transforms.Normalize(MEAN, STD),\n",
        "    transforms.RandomErasing(p=0.2, scale=(0.02, 0.2))\n",
        "])\n",
        "\n",
        "plain = transforms.Compose([\n",
        "    transforms.Resize(256),\n",
        "    transforms.CenterCrop(224),\n",
        "    transforms.ToTensor(),\n",
        "    transforms.Normalize(MEAN, STD),\n",
        "])\n",
        "\n",
        "train_ds = OxfordPetDataset('train', augmented)\n",
        "val_ds   = OxfordPetDataset('val', plain)\n",
        "test_ds  = OxfordPetDataset('test', plain)\n",
        "\n",
        "train_loader = DataLoader(train_ds, 64, shuffle=True, num_workers=4, pin_memory=True, persistent_workers=True)\n",
        "val_loader   = DataLoader(val_ds,   64, shuffle=False, num_workers=4, pin_memory=True, persistent_workers=True)\n",
        "test_loader  = DataLoader(test_ds,  64, shuffle=False, num_workers=4, pin_memory=True, persistent_workers=True)\n",
        "\n",
        "NUM_CLASSES = train_ds.get_num_classes()"
      ]
    },
    {
      "cell_type": "code",
      "execution_count": null,
      "id": "5HAMefQCOvBG",
      "metadata": {
        "colab": {
          "base_uri": "https://localhost:8080/"
        },
        "id": "5HAMefQCOvBG",
        "outputId": "53539c27-cd15-423e-f847-3ea230cbf49a"
      },
      "outputs": [
        {
          "name": "stdout",
          "output_type": "stream",
          "text": [
            "Ep01 − train 6.4% | val 8.8% | lr=3.00e-04\n",
            "Ep02 − train 8.9% | val 11.6% | lr=2.99e-04\n",
            "Ep03 − train 12.7% | val 10.0% | lr=2.97e-04\n",
            "Ep04 − train 14.2% | val 13.8% | lr=2.95e-04\n",
            "Ep05 − train 16.2% | val 12.9% | lr=2.93e-04\n",
            "Ep06 − train 19.4% | val 15.4% | lr=2.90e-04\n",
            "Ep07 − train 21.0% | val 19.9% | lr=2.86e-04\n",
            "Ep08 − train 24.0% | val 18.3% | lr=2.82e-04\n",
            "Ep09 − train 27.1% | val 21.6% | lr=2.77e-04\n",
            "Ep10 − train 28.9% | val 23.7% | lr=2.71e-04\n",
            "Ep11 − train 32.1% | val 26.8% | lr=2.66e-04\n",
            "Ep12 − train 34.6% | val 24.5% | lr=2.59e-04\n",
            "Ep13 − train 36.2% | val 30.0% | lr=2.53e-04\n",
            "Ep14 − train 39.5% | val 30.0% | lr=2.46e-04\n",
            "Ep15 − train 41.0% | val 29.0% | lr=2.38e-04\n",
            "Ep16 − train 43.2% | val 33.2% | lr=2.31e-04\n",
            "Ep17 − train 47.0% | val 33.0% | lr=2.23e-04\n",
            "Ep18 − train 48.4% | val 35.8% | lr=2.14e-04\n",
            "Ep19 − train 50.3% | val 34.9% | lr=2.06e-04\n",
            "Ep20 − train 52.0% | val 35.2% | lr=1.97e-04\n",
            "Ep21 − train 54.8% | val 33.6% | lr=1.88e-04\n",
            "Ep22 − train 58.5% | val 39.3% | lr=1.79e-04\n",
            "Ep23 − train 59.1% | val 35.6% | lr=1.69e-04\n",
            "Ep24 − train 61.3% | val 38.1% | lr=1.60e-04\n",
            "Ep25 − train 62.4% | val 37.6% | lr=1.50e-04\n",
            "Ep26 − train 65.3% | val 37.9% | lr=1.41e-04\n",
            "Ep27 − train 67.1% | val 44.0% | lr=1.32e-04\n",
            "Ep28 − train 69.1% | val 43.3% | lr=1.22e-04\n",
            "Ep29 − train 69.5% | val 44.0% | lr=1.13e-04\n",
            "Ep30 − train 73.4% | val 43.1% | lr=1.04e-04\n",
            "Ep31 − train 75.0% | val 42.6% | lr=9.55e-05\n",
            "Ep32 − train 76.2% | val 46.4% | lr=8.68e-05\n",
            "Ep33 − train 78.9% | val 47.2% | lr=7.85e-05\n",
            "Ep34 − train 80.0% | val 46.9% | lr=7.04e-05\n",
            "Ep35 − train 81.1% | val 48.2% | lr=6.26e-05\n",
            "Ep36 − train 81.8% | val 49.0% | lr=5.52e-05\n",
            "Ep37 − train 83.2% | val 49.1% | lr=4.82e-05\n",
            "Ep38 − train 84.5% | val 49.1% | lr=4.15e-05\n",
            "Ep39 − train 86.2% | val 49.7% | lr=3.53e-05\n",
            "Ep40 − train 85.7% | val 51.2% | lr=2.96e-05\n",
            "Ep41 − train 87.2% | val 49.6% | lr=2.43e-05\n",
            "Ep42 − train 89.0% | val 49.8% | lr=1.95e-05\n",
            "Ep43 − train 89.0% | val 49.7% | lr=1.52e-05\n",
            "Ep44 − train 88.6% | val 50.1% | lr=1.15e-05\n",
            "Ep45 − train 89.6% | val 50.3% | lr=8.32e-06\n",
            "Ep46 − train 89.9% | val 50.5% | lr=5.70e-06\n",
            "Ep47 − train 89.9% | val 50.2% | lr=3.65e-06\n",
            "Ep48 − train 90.5% | val 50.2% | lr=2.18e-06\n",
            "Ep49 − train 90.4% | val 50.1% | lr=1.30e-06\n",
            "Ep50 − train 89.6% | val 49.9% | lr=1.00e-06\n",
            "\n",
            "→ TEST ACCURACY finale: 55.0%\n"
          ]
        }
      ],
      "source": [
        "model = MiniXResNet_v2(n_classes=NUM_CLASSES, drop=0.4)\n",
        "history, test_acc = fit_v2(model, epochs=50)"
      ]
    },
    {
      "cell_type": "markdown",
      "id": "I3761GUfZlaR",
      "metadata": {
        "id": "I3761GUfZlaR"
      },
      "source": [
        "We still have overfitting but accuracy is improved\n",
        "\n",
        "#### Let's try with complete different architecture"
      ]
    },
    {
      "cell_type": "code",
      "execution_count": null,
      "id": "cGO4u0T8ZkpM",
      "metadata": {
        "id": "cGO4u0T8ZkpM"
      },
      "outputs": [],
      "source": [
        "import torch\n",
        "import torch.nn as nn\n",
        "import torch.nn.functional as F\n",
        "\n",
        "# --------------------------------------------------------\n",
        "# 1. Squeeze-and-Excitation (SE Block)\n",
        "# --------------------------------------------------------\n",
        "\n",
        "class SEBlock(nn.Module):\n",
        "    def __init__(self, in_ch, r=4):\n",
        "        super().__init__()\n",
        "        self.pool = nn.AdaptiveAvgPool2d(1)\n",
        "        self.fc = nn.Sequential(\n",
        "            nn.Linear(in_ch, in_ch // r),\n",
        "            nn.ReLU(inplace=True),\n",
        "            nn.Linear(in_ch // r, in_ch),\n",
        "            nn.Sigmoid()\n",
        "        )\n",
        "\n",
        "    def forward(self,x):\n",
        "        b,c,_,_ = x.size()\n",
        "        s = self.pool(x).view(b,c)\n",
        "        s = self.fc(s).view(b,c,1,1)\n",
        "        return x * s\n",
        "\n",
        "# --------------------------------------------------------\n",
        "# 2. MBConv block (Mobile Inverted Bottleneck + SE)\n",
        "# --------------------------------------------------------\n",
        "\n",
        "class MBConv(nn.Module):\n",
        "    def __init__(self, in_ch, out_ch, stride=1, expand=6):\n",
        "        super().__init__()\n",
        "        mid_ch = in_ch * expand\n",
        "        self.use_residual = (in_ch == out_ch and stride == 1)\n",
        "\n",
        "        self.expand = nn.Conv2d(in_ch, mid_ch, 1, 1, 0, bias=False)\n",
        "        self.expand_bn = nn.BatchNorm2d(mid_ch)\n",
        "\n",
        "        self.depthwise = nn.Conv2d(mid_ch, mid_ch, 3, stride, 1, groups=mid_ch, bias=False)\n",
        "        self.depthwise_bn = nn.BatchNorm2d(mid_ch)\n",
        "\n",
        "        self.se = SEBlock(mid_ch)\n",
        "\n",
        "        self.project = nn.Conv2d(mid_ch, out_ch, 1, 1, 0, bias=False)\n",
        "        self.project_bn = nn.BatchNorm2d(out_ch)\n",
        "\n",
        "        self.act = nn.SiLU(inplace=True)  # Swish-like activation\n",
        "\n",
        "    def forward(self,x):\n",
        "        out = self.act(self.expand_bn(self.expand(x)))\n",
        "        out = self.act(self.depthwise_bn(self.depthwise(out)))\n",
        "        out = self.se(out)\n",
        "        out = self.project_bn(self.project(out))\n",
        "        if self.use_residual:\n",
        "            return out + x\n",
        "        else:\n",
        "            return out\n",
        "\n",
        "# --------------------------------------------------------\n",
        "# 3. EfficientNet-Mini architecture\n",
        "# --------------------------------------------------------\n",
        "\n",
        "class EfficientNetMini(nn.Module):\n",
        "    def __init__(self, num_classes=37, drop=0.3):\n",
        "        super().__init__()\n",
        "        # Stem\n",
        "        self.stem = nn.Sequential(\n",
        "            nn.Conv2d(3, 32, 3, 2, 1, bias=False),\n",
        "            nn.BatchNorm2d(32),\n",
        "            nn.SiLU(inplace=True),\n",
        "        )\n",
        "\n",
        "        # Stages\n",
        "        self.stage1 = nn.Sequential(\n",
        "            MBConv(32, 16, stride=1, expand=1),\n",
        "        )\n",
        "        self.stage2 = nn.Sequential(\n",
        "            MBConv(16, 24, stride=2, expand=6),\n",
        "            MBConv(24, 24, stride=1, expand=6),\n",
        "        )\n",
        "        self.stage3 = nn.Sequential(\n",
        "            MBConv(24, 40, stride=2, expand=6),\n",
        "            MBConv(40, 40, stride=1, expand=6),\n",
        "        )\n",
        "        self.stage4 = nn.Sequential(\n",
        "            MBConv(40, 80, stride=2, expand=6),\n",
        "            MBConv(80, 80, stride=1, expand=6),\n",
        "        )\n",
        "        self.stage5 = nn.Sequential(\n",
        "            MBConv(80, 112, stride=1, expand=6),\n",
        "            MBConv(112, 112, stride=1, expand=6),\n",
        "        )\n",
        "        self.stage6 = nn.Sequential(\n",
        "            MBConv(112, 192, stride=2, expand=6),\n",
        "            MBConv(192, 192, stride=1, expand=6),\n",
        "        )\n",
        "\n",
        "        # Head\n",
        "        self.head = nn.Sequential(\n",
        "            nn.Conv2d(192, 320, 1, 1, 0, bias=False),\n",
        "            nn.BatchNorm2d(320),\n",
        "            nn.SiLU(inplace=True),\n",
        "            nn.AdaptiveAvgPool2d(1),\n",
        "            nn.Flatten(),\n",
        "            nn.Dropout(drop),\n",
        "            nn.Linear(320, num_classes)\n",
        "        )\n",
        "\n",
        "    def forward(self,x):\n",
        "        x = self.stem(x)\n",
        "        x = self.stage1(x)\n",
        "        x = self.stage2(x)\n",
        "        x = self.stage3(x)\n",
        "        x = self.stage4(x)\n",
        "        x = self.stage5(x)\n",
        "        x = self.stage6(x)\n",
        "        return self.head(x)"
      ]
    },
    {
      "cell_type": "code",
      "execution_count": null,
      "id": "ef2iPrUOZj3_",
      "metadata": {
        "colab": {
          "background_save": true,
          "base_uri": "https://localhost:8080/"
        },
        "id": "ef2iPrUOZj3_",
        "outputId": "fd918b11-ef42-4424-c8e0-0b7ce5fc1310"
      },
      "outputs": [
        {
          "name": "stdout",
          "output_type": "stream",
          "text": [
            "Ep01 − train 4.7% | val 5.0% | lr=9.99e-04\n",
            "Ep02 − train 9.0% | val 9.0% | lr=9.96e-04\n",
            "Ep03 − train 10.3% | val 9.9% | lr=9.91e-04\n",
            "Ep04 − train 14.3% | val 12.5% | lr=9.84e-04\n",
            "Ep05 − train 15.6% | val 12.8% | lr=9.76e-04\n",
            "Ep06 − train 18.8% | val 16.4% | lr=9.65e-04\n",
            "Ep07 − train 23.2% | val 21.9% | lr=9.52e-04\n",
            "Ep08 − train 24.7% | val 22.8% | lr=9.38e-04\n",
            "Ep09 − train 28.6% | val 26.1% | lr=9.22e-04\n",
            "Ep10 − train 30.9% | val 22.6% | lr=9.05e-04\n",
            "Ep11 − train 34.0% | val 28.8% | lr=8.85e-04\n",
            "Ep12 − train 37.6% | val 30.6% | lr=8.65e-04\n",
            "Ep13 − train 39.6% | val 34.6% | lr=8.42e-04\n",
            "Ep14 − train 40.8% | val 31.9% | lr=8.19e-04\n",
            "Ep15 − train 45.7% | val 37.4% | lr=7.94e-04\n",
            "Ep16 − train 49.4% | val 37.0% | lr=7.68e-04\n",
            "Ep17 − train 51.6% | val 42.1% | lr=7.41e-04\n",
            "Ep18 − train 52.9% | val 41.7% | lr=7.13e-04\n",
            "Ep19 − train 55.5% | val 46.3% | lr=6.84e-04\n",
            "Ep20 − train 57.3% | val 44.4% | lr=6.55e-04\n",
            "Ep21 − train 58.9% | val 47.2% | lr=6.25e-04\n",
            "Ep22 − train 59.9% | val 47.5% | lr=5.94e-04\n",
            "Ep23 − train 64.0% | val 46.9% | lr=5.63e-04\n",
            "Ep24 − train 64.6% | val 51.7% | lr=5.32e-04\n",
            "Ep25 − train 67.0% | val 49.3% | lr=5.00e-04\n",
            "Ep26 − train 67.7% | val 52.7% | lr=4.69e-04\n",
            "Ep27 − train 69.4% | val 52.9% | lr=4.38e-04\n",
            "Ep28 − train 69.9% | val 52.8% | lr=4.07e-04\n",
            "Ep29 − train 73.3% | val 53.3% | lr=3.76e-04\n",
            "Ep30 − train 72.6% | val 55.6% | lr=3.46e-04\n",
            "Ep31 − train 74.1% | val 53.3% | lr=3.17e-04\n",
            "Ep32 − train 76.1% | val 55.8% | lr=2.88e-04\n",
            "Ep33 − train 76.0% | val 56.7% | lr=2.60e-04\n",
            "Ep34 − train 77.0% | val 57.1% | lr=2.33e-04\n",
            "Ep35 − train 78.4% | val 56.4% | lr=2.07e-04\n",
            "Ep36 − train 80.2% | val 57.4% | lr=1.82e-04\n",
            "Ep37 − train 80.8% | val 57.9% | lr=1.59e-04\n",
            "Ep38 − train 81.4% | val 59.5% | lr=1.36e-04\n",
            "Ep39 − train 81.7% | val 58.9% | lr=1.16e-04\n",
            "Ep40 − train 83.0% | val 60.2% | lr=9.64e-05\n",
            "Ep41 − train 82.7% | val 59.4% | lr=7.88e-05\n",
            "Ep42 − train 83.4% | val 59.4% | lr=6.28e-05\n",
            "Ep43 − train 84.4% | val 60.4% | lr=4.85e-05\n",
            "Ep44 − train 85.0% | val 60.6% | lr=3.61e-05\n",
            "Ep45 − train 84.8% | val 60.5% | lr=2.54e-05\n",
            "Ep46 − train 85.6% | val 60.6% | lr=1.67e-05\n",
            "Ep47 − train 85.0% | val 60.7% | lr=9.85e-06\n",
            "Ep48 − train 86.0% | val 61.1% | lr=4.94e-06\n",
            "Ep49 − train 85.6% | val 60.5% | lr=1.99e-06\n",
            "Ep50 − train 85.6% | val 61.5% | lr=1.00e-06\n",
            "\n",
            "→ TEST ACCURACY finale: 64.3%\n"
          ]
        }
      ],
      "source": [
        "model = EfficientNetMini(num_classes=NUM_CLASSES, drop=0.3)\n",
        "history, test_acc = fit_v2(model, epochs=50, lr=1e-3) #fit_v2(model, epochs=40)  45% accur."
      ]
    },
    {
      "cell_type": "markdown",
      "id": "N0TyfSLP2bzc",
      "metadata": {
        "id": "N0TyfSLP2bzc"
      },
      "source": [
        "With this architecture we managed to reduce overfitting, improving accuracy.\n",
        "Probably 40 epochs are enough."
      ]
    },
    {
      "cell_type": "markdown",
      "id": "192fb2ce",
      "metadata": {
        "id": "192fb2ce"
      },
      "source": [
        "## Part 2: fine-tune an existing network\n",
        "\n",
        "Your goal is to fine-tune a pretrained ResNet-18 model on `OxfordPetDataset`. Use the implementation provided by PyTorch, i.e. the opposite of part 1. Specifically, use the PyTorch ResNet-18 model pretrained on ImageNet-1K (V1). Divide your fine-tuning into two parts:\n",
        "\n",
        "2A. First, fine-tune the ResNet-18 with the same training hyperparameters you used for your best model in part 1.\n",
        "\n",
        "2B. Then, tweak the training hyperparameters in order to increase the accuracy on the test split. Justify your choices by analyzing the training plots and/or citing sources that guided you in your decisions — papers, blog posts, YouTube videos, or whatever else you may find useful. You should consider yourselves satisfied once you obtain a classification accuracy on the test split of ~90%."
      ]
    }
  ],
  "metadata": {
    "accelerator": "GPU",
    "colab": {
      "gpuType": "T4",
      "provenance": []
    },
    "kernelspec": {
      "display_name": "Python 3",
      "name": "python3"
    },
    "language_info": {
      "codemirror_mode": {
        "name": "ipython",
        "version": 3
      },
      "file_extension": ".py",
      "mimetype": "text/x-python",
      "name": "python",
      "nbconvert_exporter": "python",
      "pygments_lexer": "ipython3",
      "version": "3.8.16"
    }
  },
  "nbformat": 4,
  "nbformat_minor": 5
}